{
 "cells": [
  {
   "cell_type": "code",
   "execution_count": 8,
   "id": "aad82111",
   "metadata": {},
   "outputs": [
    {
     "data": {
      "text/plain": [
       "6"
      ]
     },
     "execution_count": 8,
     "metadata": {},
     "output_type": "execute_result"
    }
   ],
   "source": [
    "#Question 1\n",
    "a = 0  \n",
    "def b():     \n",
    "    global a     \n",
    "    a = c(a)  \n",
    "def c(a):     \n",
    "    return a + 2 \n",
    "b() #during the first call, the value of 'a' gets returned as 2\n",
    "b() #during the second call, the value of 'a' gets returned as 4\n",
    "b() #during the third call, the value of 'a' gets returned as 6\n",
    "a"
   ]
  },
  {
   "cell_type": "markdown",
   "id": "938d5da6",
   "metadata": {},
   "source": [
    "Explaination of question 1\n",
    "1. Initially, the variable a is set to 0 (a = 0).\n",
    "\n",
    "2. The function b() is called for the first time (b()).\n",
    "\n",
    " 2.1 Inside the function b(), the global keyword is used to indicate that the variable a being referenced is the global variable      a, not a local variable.\n",
    " 2.2 The function c(a) is called, passing the value of the global variable a (which is 0) as an argument.\n",
    " 2.3 The function c(a) returns the value of a + 2, which is 2.\n",
    " 2.4 The global variable a is updated to the returned value, so a becomes 2.\n",
    " 2.5 The function b() is called for the second time (b()).\n",
    "\n",
    "3. Inside the function b(), the global variable a is now 2.\n",
    " 3.1 The function c(a) is called again, passing the value of the global variable a (which is 2) as an argument.\n",
    " 3.2 The function c(a) returns the value of a + 2, which is 4.\n",
    " 3.3 The global variable a is updated to the returned value, so a becomes 4.\n",
    " 3.4 The function b() is called for the third time (b()).\n",
    "\n",
    "4. Inside the function b(), the global variable a is now 4.\n",
    " 4.1 The function c(a) is called, passing the value of the global variable a (which is 4) as an argument.\n",
    " 4.2 The function c(a) returns the value of a + 2, which is 6.\n",
    " 4.3 The global variable a is updated to the returned value, so a becomes 6.\n",
    " 4.4 Finally, the last expression a is evaluated.\n",
    "\n",
    "5. At this point, the value of the global variable a is 6 which is the last value."
   ]
  },
  {
   "cell_type": "code",
   "execution_count": 29,
   "id": "dae4450d",
   "metadata": {},
   "outputs": [
    {
     "name": "stdout",
     "output_type": "stream",
     "text": [
      "File C:\\Users\\ankit\\Downloads\\midterm.py not found.\n"
     ]
    }
   ],
   "source": [
    "#Question 2\n",
    "def fileLength(filename):\n",
    "    try:\n",
    "        file = open(filename)\n",
    "        contents = file.read()\n",
    "        file.close()\n",
    "        length = len(contents)\n",
    "        return length\n",
    "    except FileNotFoundError:\n",
    "        print(\"File\", filename, \"not found.\")\n",
    "fileLength(r\"C:\\Users\\ankit\\Downloads\\midterm.py\") #was getting error initially since jupyter notebook was unable to read the file, used Stack overflow to learn how to convert the string to a raw string, link: https://stackoverflow.com/questions/37400974/error-unicode-error-unicodeescape-codec-cant-decode-bytes-in-position-2-3\n"
   ]
  },
  {
   "cell_type": "code",
   "execution_count": 21,
   "id": "04c898dc",
   "metadata": {},
   "outputs": [
    {
     "name": "stdout",
     "output_type": "stream",
     "text": [
      "['doll', 'firetruck', 'kitten']\n",
      "I am a Kangaroo located at coordinates (0, 0)\n",
      "['doll', 'firetruck', 'kitten']\n",
      "I am a Kangaroo located at coordinates (3, 0)\n"
     ]
    }
   ],
   "source": [
    "#Question 3\n",
    "class Marsupial:\n",
    "    def __init__(self):\n",
    "        self.pouch = []\n",
    "\n",
    "    def put_in_pouch(self, item):\n",
    "        self.pouch.append(item)\n",
    "\n",
    "    def pouch_contents(self):\n",
    "        return self.pouch\n",
    "\n",
    "\n",
    "class Kangaroo(Marsupial):\n",
    "    def __init__(self, x, y):\n",
    "        super().__init__()\n",
    "        self.coordinates = (x, y)\n",
    "\n",
    "    def jump(self, dx, dy):\n",
    "        x, y = self.coordinates\n",
    "        x += dx\n",
    "        y += dy\n",
    "        self.coordinates = (x, y)\n",
    "\n",
    "    def __str__(self):\n",
    "        x, y = self.coordinates\n",
    "        return f\"I am a Kangaroo located at coordinates ({x}, {y})\"\n",
    "\n",
    "\n",
    "# Example usage\n",
    "m = Marsupial()\n",
    "m.put_in_pouch('doll')\n",
    "m.put_in_pouch('firetruck')\n",
    "m.put_in_pouch('kitten')\n",
    "print(m.pouch_contents())  \n",
    "\n",
    "k = Kangaroo(0, 0)\n",
    "print(k)  \n",
    "k.put_in_pouch('doll')\n",
    "k.put_in_pouch('firetruck')\n",
    "k.put_in_pouch('kitten')\n",
    "print(k.pouch_contents())  \n",
    "k.jump(1, 0)\n",
    "k.jump(1, 0)\n",
    "k.jump(1, 0)\n",
    "print(k)  \n"
   ]
  },
  {
   "cell_type": "code",
   "execution_count": 25,
   "id": "f57a097d",
   "metadata": {},
   "outputs": [
    {
     "name": "stdout",
     "output_type": "stream",
     "text": [
      "1\n",
      "\n",
      "10\n",
      "5\n",
      "16\n",
      "8\n",
      "4\n",
      "2\n",
      "1\n"
     ]
    }
   ],
   "source": [
    "#Question 4\n",
    "def collatz(x):\n",
    "    print(x)\n",
    "    if x == 1:\n",
    "        return\n",
    "    elif x % 2 == 0:\n",
    "        collatz(x // 2)\n",
    "    else:\n",
    "        collatz(3 * x + 1)\n",
    "\n",
    "\n",
    "collatz(1)  \n",
    "print()\n",
    "collatz(10)"
   ]
  },
  {
   "cell_type": "code",
   "execution_count": 32,
   "id": "d8a608e6",
   "metadata": {},
   "outputs": [
    {
     "name": "stdout",
     "output_type": "stream",
     "text": [
      "0\n",
      "1010\n",
      "11011\n"
     ]
    }
   ],
   "source": [
    "#Question 5\n",
    "def binary(n):\n",
    "    if n > 1:\n",
    "        binary(n // 2)\n",
    "    print(n % 2, end='')\n",
    "\n",
    "\n",
    "\n",
    "binary(0)  \n",
    "print()  \n",
    "binary(10)  \n",
    "print()  \n",
    "binary(27)  \n",
    "print()  \n"
   ]
  }
 ],
 "metadata": {
  "kernelspec": {
   "display_name": "Python 3 (ipykernel)",
   "language": "python",
   "name": "python3"
  },
  "language_info": {
   "codemirror_mode": {
    "name": "ipython",
    "version": 3
   },
   "file_extension": ".py",
   "mimetype": "text/x-python",
   "name": "python",
   "nbconvert_exporter": "python",
   "pygments_lexer": "ipython3",
   "version": "3.10.9"
  }
 },
 "nbformat": 4,
 "nbformat_minor": 5
}
